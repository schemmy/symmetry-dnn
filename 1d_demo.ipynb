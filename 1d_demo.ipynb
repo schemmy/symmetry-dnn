{
 "cells": [
  {
   "cell_type": "code",
   "execution_count": 2,
   "metadata": {
    "collapsed": true
   },
   "outputs": [],
   "source": [
    "import os\n",
    "os.environ['TF_CPP_MIN_LOG_LEVEL']='2'\n",
    "import tensorflow as tf\n",
    "import numpy as np\n",
    "import random\n",
    "import math\n",
    "import matplotlib.pyplot as plt"
   ]
  },
  {
   "cell_type": "code",
<<<<<<< HEAD
   "execution_count": 54,
=======
   "execution_count": 382,
>>>>>>> ac4e613666e278b19e9c282efc6d826186c8c6d0
   "metadata": {},
   "outputs": [
    {
     "data": {
<<<<<<< HEAD
      "image/png": "iVBORw0KGgoAAAANSUhEUgAAAZEAAAD8CAYAAAC2PJlnAAAABHNCSVQICAgIfAhkiAAAAAlwSFlz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\n",
      "text/plain": [
       "<matplotlib.figure.Figure at 0x1249d99e8>"
=======
      "image/png": "iVBORw0KGgoAAAANSUhEUgAAAYwAAAD8CAYAAABkbJM/AAAABHNCSVQICAgIfAhkiAAAAAlwSFlz\nAAALEgAACxIB0t1+/AAAFMRJREFUeJzt3X+oZOd93/H3Z38ooFJiaXcrryXtD8HGZE1BSIMih8YY\nJDe7grJ2aECqqYSTslmpChT6RzcYWskgKguCjUGRu6ZKZHaxMIHaW0mpkBYSU7Bb3S2yfkTd7EqV\nrV3WkmKnCsVBsrzf/jHnOqOruTPPnRnt/fV+wTBzznme53wfH535eM7MPZuqQpKkcTYsdwGSpNXB\nwJAkNTEwJElNDAxJUhMDQ5LUxMCQJDUxMCRJTWYSGEn2JTmV5EySw0O2J8lXuu3PJbluYNvDSd5I\n8sKCPvckOZfk2e5xyyxqlSRNZurASLIReBDYD+wFbkuyd0Gz/cCe7nEQeGhg258A+xYZ/ktVdW33\neGLaWiVJk9s0gzFuAM5U1SsASR4FDgB/OdDmAPD16v9Z+feSfCjJ9qo6X1XfSbJrBnWwdevW2rVr\nJkNJ0rpx8uTJv66qbePazSIwrgReG1g+C/xaQ5srgfNjxv79JLcDc8C/raq/GdV4165dzM3NNRUt\nSepL8oOWdiv5S++HgGuAa+kHyx8Oa5TkYJK5JHNvvvnmxaxPktaVWQTGOeDqgeWrunVLbfMeVfV6\nVf28qi4AX6N/6WtYuyNV1auq3rZtYz9RSZImNIvAeAbYk2R3kkuAW4HjC9ocB27vfi11I/BWVY28\nHJVk+8DiZ4AXFmsrSfrgTf0dRlW9m+Ru4ElgI/BwVb2Y5FC3/avAE8AtwBngp8Dn5vsn+QbwSWBr\nkrPAf6iq/ww8kORaoIBXgd+btlZJ0uSylv49jF6vV37pLUlLk+RkVfXGtVvJX3pLklYQA0OS1MTA\nkCQ1MTAkSU0MDElSEwNDktTEwJAkNTEwJElNDAxJUhMDQ5LUxMCQJDUxMCRJTQwMSVITA0OS1MTA\nkCQ1MTAkSU0MDElSEwNDktTEwJAkNTEwJElNDAxJUhMDQ5LUxMCQJDUxMCRJTQwMSVITA0OS1MTA\nkCQ1mUlgJNmX5FSSM0kOD9meJF/ptj+X5LqBbQ8neSPJCwv6XJ7kqSSnu+fLZlGrJGkyUwdGko3A\ng8B+YC9wW5K9C5rtB/Z0j4PAQwPb/gTYN2Tow8CJqtoDnOiWJUnLZBafMG4AzlTVK1X1DvAocGBB\nmwPA16vve8CHkmwHqKrvAD8ZMu4B4JHu9SPAp2dQqyRpQrMIjCuB1waWz3brltpmoSuq6nz3+kfA\nFcMaJTmYZC7J3JtvvtletSRpSVbFl95VVUAtsu1IVfWqqrdt27aLXJkkrR+zCIxzwNUDy1d165ba\nZqHX5y9bdc9vTFmnJGkKswiMZ4A9SXYnuQS4FTi+oM1x4Pbu11I3Am8NXG5azHHgju71HcC3Z1Cr\nJGlCUwdGVb0L3A08CbwEfLOqXkxyKMmhrtkTwCvAGeBrwF3z/ZN8A/gu8NEkZ5P8brfpfuBTSU4D\nN3fLkqRlkv7XA2tDr9erubm55S5DklaVJCerqjeu3ar40luStPwMDElSEwNDktTEwJAkNTEwJElN\nDAxJUhMDQ5LUxMCQJDUxMCRJTQwMSVITA0OS1MTAkCQ1MTAkSU0MDElSEwNDktTEwJAkNTEwJElN\nDAxJUhMDQ5LUxMCQJDUxMCRJTQwMSVITA0OS1MTAkCQ1MTAkSU0MDElSEwNDktRkJoGRZF+SU0nO\nJDk8ZHuSfKXb/lyS68b1TXJPknNJnu0et8yiVknSZKYOjCQbgQeB/cBe4LYkexc02w/s6R4HgYca\n+36pqq7tHk9MW6skaXKz+IRxA3Cmql6pqneAR4EDC9ocAL5efd8DPpRke2NfSdIKMIvAuBJ4bWD5\nbLeupc24vr/fXcJ6OMllw3ae5GCSuSRzb7755qRzkCSNsZK/9H4IuAa4FjgP/OGwRlV1pKp6VdXb\ntm3bxaxPktaVTTMY4xxw9cDyVd26ljabF+tbVa/Pr0zyNeCxGdQqSZrQLD5hPAPsSbI7ySXArcDx\nBW2OA7d3v5a6EXirqs6P6tt9xzHvM8ALM6hVkjShqT9hVNW7Se4GngQ2Ag9X1YtJDnXbvwo8AdwC\nnAF+CnxuVN9u6AeSXAsU8Crwe9PWKkmaXKpquWuYmV6vV3Nzc8tdhiStKklOVlVvXLuV/KW3JGkF\nMTAkSU0MDElSEwNDktTEwJAkNTEwJElNDAxJUhMDQ5LUxMCQJDUxMCRJTQwMSVITA0OS1MTAkCQ1\nMTAkSU0MDElSEwNDktTEwJAkNTEwJElNDAxJUhMDQ5LUxMCQJDUxMCRJTQwMSVITA0OS1MTAkCQ1\nMTAkSU1mEhhJ9iU5leRMksNDtifJV7rtzyW5blzfJJcneSrJ6e75slnUKkmazNSBkWQj8CCwH9gL\n3JZk74Jm+4E93eMg8FBD38PAiaraA5zolj84x47Brl2wYUP/+dixydqOG2cp+1lKzVu39h+D485v\nT2DTpv5zyz6PHeuPlfQfW7dOV+cKdez5Y+z68i423LuBXV/exbHnj43cftfjd41sP++ux+9i0xc2\nkXvDpi9s4q7H72ra36g6tz6wldwbcm/Y+IWNvxh78HmpY87XsvWBrWx9YOt75jm4v60PbOXY88fe\nV8f8+lnPd+JzZJbn1qjxW8+nYe0X9mupeZr3mxlLVU03QPJx4J6q+s1u+Q8Aquo/DrT5T8CfV9U3\nuuVTwCeBXYv1nW9TVeeTbO/6f3RULb1er+bm5pY+iWPH4OBB+OlP/37dpZfCkSPw2c+2t4XR4yxl\nP5PUPGjz5v5/mO+88/5to/Z57Bj8zu+8v9/mzfDHf7z0OleoY88f4+B/PchPf/b3//tduvlSjvyz\nI3z2H3926PaFBtvPu+vxu3ho7qH3tb1p90189+x3F93fqDo/963P8bMLP2uaV+uY4+a20KYNm7hw\n4QIXuPCe9RuygQt14X3tJ53vxOfILM+t1vFH7Wfc+QnDz9GFY03zfrMESU5WVW9suxkExj8H9lXV\nv+qW/yXwa1V190Cbx4D7q+q/d8sngH9HPzCG9k3yf6vqQ936AH8zv7yYiQNj1y74wQ/ev37nTnj1\n1fa2MHqcpexnnMXGarXYPkeNO0mdK9SuL+/iB2+9f547f3knr/6bVxfdvlj7eZu+sImf18+b61jY\nv7XOiz3mrIyrbeJzZJbn1lLGX2w/05yfg2NN836zBK2BsWlJoy6TqqokQ5MtyUH6l7nYsWPHZDv4\n4Q/b1y+l7cJtk/QdN+akppnHGvDDt4bPZX79YtvHjbOUsGjZT2sdH/SYszJ235OeI7M8t2ax/2n2\nO9h3hZ2ns/jS+xxw9cDyVd26ljaj+r7eXYqie35j2M6r6khV9aqqt23btslmsFjQDFs/qu24cZay\nn3EmDcdx/UeNO+0+V5Advzx8LvPrF9s+bpyN2TiTOlq3X6wxZ2Xsvic9R2Z5bs1i/9Psd7DvNO83\nH4BZBMYzwJ4ku5NcAtwKHF/Q5jhwe/drqRuBt6rq/Ji+x4E7utd3AN+eQa3D3Xdf/9rfoEsv7a9f\nSttx4yxlP5PUPGjzZrjkkuHbRu3zvvuG99u8ebI6V6j7brqPSze/93+/Szdfyn033bfo9oUG2887\neP3BoW1v2n3TyP2NqnPzhs0j20wy5ri5LbRpwyY2DHm72JDhbyGTznfic2SW51br+KP2M+78hOHn\n6MKxpnm/+SBU1dQP4Bbgr4CXgc936w4Bh7rXof9rqJeB54HeqL7d+i30fx11GngauHxcHddff31N\n7OjRqp07q5L+89Gjk7UdN85S9rOUmrds6T8Gx53fDlUbN/afW/Z59Gh/LOg/tmyZrs4V6uhzR2vn\nl3ZW7knt/NLOOvrc0ZHb73zszpHt59352J218d6NxT3Uxns31p2P3dm0v1F1bvniluIeinuoDfdu\n+MXYg89LHXO+li1f3FJbvrjlPfMc3N+WL26po88dfV8d8+tnPd+Jz5FZnlujxm89n4a1X9ivpeZp\n3m8aAXPV8F4/9ZfeK8nEX3pL0jrW+qW3f+ktSWpiYEiSmhgYkqQmBoYkqYmBIUlqYmBIkpoYGJKk\nJgaGJKmJgSFJamJgSJKaGBiSpCYGhiSpiYEhSWpiYEiSmhgYkqQmBoYkqYmBIUlqYmBIkpoYGJKk\nJgaGJKmJgSFJamJgSJKaGBiSpCYGhiSpiYEhSWpiYEiSmhgYkqQmUwVGksuTPJXkdPd82SLt9iU5\nleRMksPj+ifZleTvkjzbPb46TZ2SpOlN+wnjMHCiqvYAJ7rl90iyEXgQ2A/sBW5Lsreh/8tVdW33\nODRlnZKkKU0bGAeAR7rXjwCfHtLmBuBMVb1SVe8Aj3b9WvtLklaAaQPjiqo6373+EXDFkDZXAq8N\nLJ/t1o3rv7u7HPUXSX5jyjolSVPaNK5BkqeBDw/Z9PnBhaqqJDVpIQv6nwd2VNWPk1wPfCvJx6rq\nb4fUdxA4CLBjx45Jdy9JGmNsYFTVzYttS/J6ku1VdT7JduCNIc3OAVcPLF/VrQMY2r+q3gbe7l6f\nTPIy8CvA3JD6jgBHAHq93sSBJUkabdpLUseBO7rXdwDfHtLmGWBPkt1JLgFu7fot2j/Jtu7LcpJc\nA+wBXpmyVknSFKYNjPuBTyU5DdzcLZPkI0meAKiqd4G7gSeBl4BvVtWLo/oDnwCeS/Is8KfAoar6\nyZS1SpKmkKq1cxWn1+vV3Nz7rlpJkkZIcrKqeuPa+ZfekqQmBoYkqYmBIUlqYmBIkpoYGJKkJgaG\nJKmJgSFJamJgSJKaGBiSpCYGhiSpiYEhSWpiYEiSmhgYkqQmBoYkqYmBIUlqYmBIkpoYGJKkJgaG\nJKmJgSFJamJgSJKaGBiSpCYGhiSpiYEhSWpiYEiSmhgYkqQmBoYkqYmBIUlqMlVgJLk8yVNJTnfP\nly3Sbl+SU0nOJDk8sP63k7yY5EKS3oI+f9C1P5XkN6epU5I0vWk/YRwGTlTVHuBEt/weSTYCDwL7\ngb3AbUn2dptfAH4L+M6CPnuBW4GPAfuAP+rGkSQtk2kD4wDwSPf6EeDTQ9rcAJypqleq6h3g0a4f\nVfVSVZ1aZNxHq+rtqvo/wJluHEnSMpk2MK6oqvPd6x8BVwxpcyXw2sDy2W7dKJP0kSR9gDaNa5Dk\naeDDQzZ9fnChqipJzaqwVkkOAgcBduzYcbF3L0nrxtjAqKqbF9uW5PUk26vqfJLtwBtDmp0Drh5Y\nvqpbN0pzn6o6AhwB6PV6Fz2wJGm9mPaS1HHgju71HcC3h7R5BtiTZHeSS+h/mX28Ydxbk/xSkt3A\nHuB/TlmrJGkK0wbG/cCnkpwGbu6WSfKRJE8AVNW7wN3Ak8BLwDer6sWu3WeSnAU+Djye5Mmuz4vA\nN4G/BP4b8K+r6udT1ipJmkKq1s5VnF6vV3Nzc8tdhiStKklOVlVvXDv/0luS1MTAkCQ1MTAkSU0M\nDElSEwNDktTEwJAkNTEwJElNDAxJUhMDQ5LUxMCQJDUxMCRJTQwMSVITA0OS1MTAkCQ1MTAkSU0M\nDElSEwNDktTEwJAkNTEwJElNDAxJUhMDQ5LUxMCQJDUxMCRJTQwMSVITA0OS1MTAkCQ1MTAkSU2m\nCowklyd5Ksnp7vmyRdrtS3IqyZkkhwfW/3aSF5NcSNIbWL8ryd8lebZ7fHWaOiVJ05v2E8Zh4ERV\n7QFOdMvvkWQj8CCwH9gL3JZkb7f5BeC3gO8MGfvlqrq2exyask5J0pSmDYwDwCPd60eATw9pcwNw\npqpeqap3gEe7flTVS1V1asoaJEkXwbSBcUVVne9e/wi4YkibK4HXBpbPduvG2d1djvqLJL8xZZ2S\npCltGtcgydPAh4ds+vzgQlVVkppRXeeBHVX14yTXA99K8rGq+tsh9R0EDgLs2LFjRruXJC00NjCq\n6ubFtiV5Pcn2qjqfZDvwxpBm54CrB5av6taN2ufbwNvd65NJXgZ+BZgb0vYIcKSr580kPxgy5Fbg\nr0ftc41wnmvHepgjrI95roY57mxpNDYwxjgO3AHc3z1/e0ibZ4A9SXbTD4pbgX8xatAk24CfVNXP\nk1wD7AFeGVdMVW1bZLy5quoN27aWOM+1Yz3MEdbHPNfSHKf9DuN+4FNJTgM3d8sk+UiSJwCq6l3g\nbuBJ4CXgm1X1YtfuM0nOAh8HHk/yZDfuJ4DnkjwL/ClwqKp+MmWtkqQppGpWXzusXGsp4UdxnmvH\nepgjrI95rqU5rpe/9D6y3AVcJM5z7VgPc4T1Mc81M8d18QlDkjS99fIJQ5I0pTUZGIvdo2pIu1eT\nPN/9geD7frK70i1hnkPv5bUaLOF+ZavyWI47Nun7Srf9uSTXLUed02iY4yeTvDVw77h/vxx1TiPJ\nw0neSPLCIttX/XEEoKrW3AP4VeCjwJ8DvRHtXgW2Lne9H+Q8gY3Ay8A1wCXA94G9y137Eub4AHC4\ne30Y+OJaOZYtxwa4BfgzIMCNwP9Y7ro/gDl+EnhsuWudcp6fAK4DXlhk+6o+jvOPNfkJo9bJPaoa\n57novbxWiZb7la1WLcfmAPD16vse8KHuj2RXi9X+31+TqvoOMOqn/6v9OAJr9JLUEhTwdJKT3S1G\n1qJJ7+W1UrTcrwxW57FsOTar/fi11v/r3aWaP0vysYtT2kW12o8jMP1fei+bUfe4qqphf3E+zD+p\nqnNJ/hHwVJL/3f0/hRVjRvNc0WZ0v7IVfyy1qP9F/95x/y/JLcC36N/dQSvMqg2MGnGPqyWMca57\nfiPJf6H/8XlFvcnMYJ5LvpfXxTZqjo33K1sVx3KIlmOz4o/fGGPrr4GbilbVE0n+KMnWqlrp919a\nitV+HIF1fEkqyT9I8g/nXwP/lP4/6LTW/OJeXkkuoX8vr+PLXNNSzN+vDBa5X9kqPpYtx+Y4cHv3\nK5sbgbcGLtGtBmPnmOTDSdK9voH++9KPL3qlH6zVfhz7lvtb9w/iAXyG/jXCt4HXgSe79R8Bnuhe\nX0P/FxvfB16kf4ln2Wuf9Ty75VuAv6L/a5VVNU9gC/1/zfE08DRw+Vo6lsOODXCI/v3ToP+rmge7\n7c8z4ld/K/XRMMe7u+P2feB7wK8vd80TzPEb9P9Zhp915+TvrrXjWFX+pbckqc26vSQlSVoaA0OS\n1MTAkCQ1MTAkSU0MDElSEwNDktTEwJAkNTEwJElN/j+gKq77EmAOtwAAAABJRU5ErkJggg==\n",
      "text/plain": [
       "<matplotlib.figure.Figure at 0x7f9e48fd6e80>"
>>>>>>> ac4e613666e278b19e9c282efc6d826186c8c6d0
      ]
     },
     "metadata": {},
     "output_type": "display_data"
    }
   ],
   "source": [
    "\n",
    "random.seed(3)\n",
    "\n",
    "def rand_cluster(n,c,r):\n",
    "    \"\"\"returns n random points in disk of radius r centered at c\"\"\"\n",
    "    x = c\n",
    "    points = []\n",
    "    for i in range(n):\n",
    "        theta = 2*math.pi*random.random()\n",
    "        s = r*random.random()\n",
    "        points.append([x+s*math.cos(theta)])\n",
    "    return points\n",
    "\n",
    "def rand_clusters(k,n,r, a,b):\n",
    "    \"\"\"return k clusters of n points each in random disks of radius r\n",
    "    where the centers of the disk are chosen randomly in [a,b]x[c,d]\"\"\"\n",
    "    clusters = []\n",
    "    for _ in range(k):\n",
    "        x = a + (b-a)*random.random()\n",
    "        clusters.extend(rand_cluster(n,x,r))\n",
    "    return clusters\n",
    "\n",
<<<<<<< HEAD
    "n = 50\n",
    "X = rand_clusters(2,50,0.8,-1,1,-1,1)\n",
=======
    "n = 20\n",
    "X = rand_clusters(1,n//2,.5,-1,-1)\n",
    "X += rand_clusters(1,n//2,.5,1,1)\n",
    "X += rand_clusters(1,n,.5,0,0)\n",
>>>>>>> ac4e613666e278b19e9c282efc6d826186c8c6d0
    "data = np.array(X)\n",
    "\n",
    "label = np.transpose(np.array([[0]*n + [1]*n]))\n",
    "# label = np.array([1]*n + [0]*n)\n",
    "\n",
    "plt.scatter(data[:n], [0]*n, color=['red'])\n",
    "plt.scatter(data[n:], [0]*n, color=['green'])\n",
    "plt.show()"
   ]
  },
  {
   "cell_type": "code",
<<<<<<< HEAD
   "execution_count": 139,
   "metadata": {
    "collapsed": true
   },
=======
   "execution_count": 383,
   "metadata": {},
>>>>>>> ac4e613666e278b19e9c282efc6d826186c8c6d0
   "outputs": [],
   "source": [
    "# tf.reset_default_graph()\n",
    "\n",
    "# def weight_variable(shape, name):\n",
    "#     initial = tf.truncated_normal(shape=shape, stddev=0.1)\n",
    "#     return tf.get_variable(name=name, initializer=initial)\n",
    "\n",
    "# def bias_variable(shape, name):\n",
    "#     initial = tf.constant(0.1, shape=shape)\n",
    "#     return tf.get_variable(name=name, initializer=initial)\n",
    "\n",
    "\n",
    "x = tf.placeholder(tf.float32, [None, 1])\n",
    "y_ = tf.placeholder(tf.float32, [None, 1])\n",
    "\n",
    "\n",
    "n_input = 1\n",
    "n_hidden = 2\n",
    "n_output = 1\n",
    "lmd = 0\n",
    "\n",
    "parameters = tf.Variable(tf.concat([tf.truncated_normal([n_input * n_hidden]), tf.zeros([n_hidden]),\\\n",
    "                                    tf.truncated_normal([n_hidden * n_output]), tf.zeros([n_output]),\\\n",
    "                                   ], 0))\n",
    "\n",
    "idx_from = 0 \n",
    "weights1 = tf.reshape(tf.slice(parameters, begin=[idx_from], size=[n_input*n_hidden]), [n_input, n_hidden])\n",
    "idx_from = idx_from + n_input*n_hidden\n",
    "biases1 = tf.reshape(tf.slice(parameters, begin=[idx_from], size=[n_hidden]), [n_hidden])\n",
    "hidden = tf.nn.relu(tf.matmul(x, weights1) + biases1)\n",
    "\n",
    "idx_from = idx_from + n_hidden\n",
    "weights2 = tf.reshape(tf.slice(parameters, begin=[idx_from], size=[n_hidden*n_output]), [n_hidden, n_output])\n",
    "idx_from = idx_from + n_hidden*n_output\n",
    "biases2 = tf.reshape(tf.slice(parameters, begin=[idx_from], size=[n_output]), [n_output])\n",
    "y = tf.nn.relu(tf.matmul(hidden, weights2) + biases2)\n",
    "\n",
    "loss = tf.reduce_mean(tf.reduce_sum(tf.pow(y_ - y, 2), reduction_indices=[1])) #I also tried simply tf.nn.l2_loss(y_ - y)\n",
    "\n",
    "lr = tf.placeholder(tf.float32, shape=[])\n",
    "optimizer = tf.train.GradientDescentOptimizer(learning_rate=lr)\n",
    "grads_and_vars = optimizer.compute_gradients(loss)\n",
    "grad = tf.gradients(loss, parameters)\n",
    "hess = tf.hessians(loss, parameters)\n",
    "train_step = optimizer.apply_gradients(grads_and_vars)"
   ]
  },
  {
   "cell_type": "code",
<<<<<<< HEAD
   "execution_count": 145,
=======
   "execution_count": 384,
>>>>>>> ac4e613666e278b19e9c282efc6d826186c8c6d0
   "metadata": {
    "collapsed": true
   },
   "outputs": [],
   "source": [
    "\n",
    "def get_accuracy():\n",
    "    pred = sess.run(y, feed_dict={x: data, y_: label})    \n",
    "    match = [(pred[i] - 0.5) * (label[i] - 0.5) > 0  for i in range(n*2)]\n",
    "    acc = sum(match)*1./2/n\n",
    "    return acc[0]\n",
    "\n",
    "def get_norm_grad():\n",
    "    nng = 0.\n",
    "    for gv in grad:\n",
    "#         print(str(sess.run(gv[0], feed_dict={x: data, y_: label})) + \" - \" + gv[1].name)\n",
    "        g = sess.run(gv, feed_dict={x: data, y_: label})\n",
    "        print (g)\n",
    "        nng += np.linalg.norm(g) ** 2\n",
    "    return np.sqrt(nng)\n",
    "    \n",
    "     \n",
    "def displayH(a):\n",
    "    a = np.array(a[0])\n",
    "#     print (\"Matrix[\"+(\"%d\" %a.shape[0])+\"][\"+(\"%d\" %a.shape[1])+\"]\")\n",
    "    rows = a.shape[0]\n",
    "    cols = a.shape[1]\n",
    "    for i in range(0, rows):\n",
    "        for j in range(0, cols):\n",
    "            print(\"%0.2g \" %a[i,j], end=\"\")\n",
    "        print ()\n",
    "    print ()\n"
   ]
  },
  {
   "cell_type": "code",
<<<<<<< HEAD
   "execution_count": 148,
=======
   "execution_count": 385,
>>>>>>> ac4e613666e278b19e9c282efc6d826186c8c6d0
   "metadata": {},
   "outputs": [
    {
     "name": "stdout",
     "output_type": "stream",
     "text": [
<<<<<<< HEAD
      "[ 0.00291572  0.04794232  0.00354564 -0.06744069  0.03270284 -0.1454341\n",
      " -0.69240677]\n",
      "[ 0.00753453  0.05919332  0.03412173  0.0119173   0.13001086  0.16569825\n",
      "  0.06899914]\n",
      "Epoch 1, accuracy 30.00%, loss 0.282744, nng 0.2324, nnw 1.067, high_eig 2.533, low_eig -0.3944.\n",
      "[ 0.99854213  0.37602884  0.09822718  0.53372037  0.08364858  0.17271705\n",
      "  0.44620338]\n",
      "[ 0.00133986  0.03195352  0.00543898 -0.00819002  0.0951729   0.07508073\n",
      " -0.09113387]\n",
      "Epoch 2, accuracy 49.00%, loss 0.264211, nng 0.1553, nnw 1.053, high_eig 2.465, low_eig -0.3303.\n",
      "[ 0.99477488  0.34643218  0.08116631  0.5277617   0.01864315  0.08986793\n",
      "  0.41170382]\n",
      "[-0.00206628  0.01744991 -0.00875153 -0.00230922  0.09468969  0.08672758\n",
      " -0.04413009]\n",
      "Epoch 3, accuracy 50.00%, loss 0.253172, nng 0.1372, nnw 1.048, high_eig 2.47, low_eig -0.3104.\n",
      "[ 0.99410492  0.33045542  0.07844682  0.53185672 -0.0289433   0.05232756\n",
      "  0.45727077]\n",
      "[-0.00507562  0.00289519 -0.02196248 -0.00045719  0.0900524   0.07672898\n",
      " -0.05100465]\n",
      "Epoch 4, accuracy 50.00%, loss 0.244044, nng 0.1308, nnw 1.046, high_eig 2.475, low_eig -0.3012.\n",
      "[ 0.99513805  0.32173046  0.08282258  0.53301132 -0.07628815  0.00896377\n",
      "  0.47933581]\n",
      "[-0.00761239 -0.00913936 -0.03380913  0.00139208  0.0887457   0.07431325\n",
      " -0.04734871]\n",
      "Epoch 5, accuracy 52.00%, loss 0.235548, nng 0.1301, nnw 1.048, high_eig 2.486, low_eig -0.2911.\n",
      "[ 0.99767584  0.32028288  0.09380382  0.5332399  -0.12131435 -0.02940072\n",
      "  0.50483811]\n",
      "[-0.00937816 -0.01990012 -0.047462    0.00318304  0.08839853  0.07166002\n",
      " -0.04782391]\n",
      "Epoch 6, accuracy 84.00%, loss 0.226973, nng 0.1341, nnw 1.053, high_eig 2.503, low_eig -0.2867.\n",
      "[ 1.00148201  0.32485256  0.11070839  0.53254384 -0.1656872  -0.06655735\n",
      "  0.52851248]\n",
      "[-0.01091521 -0.02927736 -0.05724236  0.00499501  0.08899192  0.06983297\n",
      " -0.04878561]\n",
      "Epoch 7, accuracy 84.00%, loss 0.217812, nng 0.1395, nnw 1.06, high_eig 2.526, low_eig -0.2745.\n",
      "[ 1.00617111  0.33480263  0.13443938  0.53095233 -0.20988646 -0.10238735\n",
      "  0.55242443]\n",
      "[-0.01192642 -0.03725121 -0.06543148  0.00694297  0.08937097  0.0680831\n",
      " -0.05056642]\n",
      "Epoch 8, accuracy 84.00%, loss 0.207882, nng 0.145, nnw 1.07, high_eig 2.56, low_eig -0.2619.\n",
      "[ 1.01162875  0.34944132  0.16306056  0.52845484 -0.25438243 -0.13730384\n",
      "  0.57681721]\n",
      "[-0.01236987 -0.04363947 -0.0716073   0.00905731  0.08896469  0.06599139\n",
      " -0.05285994]\n",
      "Epoch 9, accuracy 84.00%, loss 0.197152, nng 0.1494, nnw 1.082, high_eig 2.601, low_eig -0.2466.\n",
      "[ 1.01759195  0.36806694  0.1957763   0.52498335 -0.29906791 -0.1713454\n",
      "  0.60210043]\n",
      "[-0.01141938 -0.04819492 -0.07881796  0.01119725  0.08715916  0.06343754\n",
      " -0.0547969 ]\n",
      "Epoch 10, accuracy 84.00%, loss 0.185831, nng 0.153, nnw 1.096, high_eig 2.65, low_eig -0.231.\n",
      "[ 1.02377689  0.38988668  0.23157994  0.5204547  -0.34355026 -0.2043411\n",
      "  0.62853038]\n"
=======
      "Epoch 1, accuracy 100.00%, loss 0.008638, nng 0.001453, nnw 29.7, high_eig 0.03489, low_eig -3.338e-06.\n",
      "Epoch 21, accuracy 100.00%, loss 0.000007, nng 2.634e-05, nnw 28.65, high_eig 0.0006778, low_eig -2.873e-07.\n",
      "Epoch 41, accuracy 100.00%, loss 0.000019, nng 0.0001091, nnw 27.74, high_eig 0.002719, low_eig -5.745e-07.\n",
      "Epoch 61, accuracy 100.00%, loss 0.000001, nng 3.327e-06, nnw 27.85, high_eig 8.787e-05, low_eig 1.244e-12.\n",
      "Epoch 81, accuracy 100.00%, loss 0.000000, nng 9.778e-07, nnw 27.9, high_eig 3.654e-05, low_eig 1.276e-12.\n"
>>>>>>> ac4e613666e278b19e9c282efc6d826186c8c6d0
     ]
    },
    {
     "data": {
      "text/plain": [
       "array([ 20., -20., -10., -10., -16., -16.,  16.], dtype=float32)"
      ]
     },
     "metadata": {},
     "output_type": "display_data"
    },
    {
     "data": {
      "text/plain": [
       "array([ 20.86131096, -18.51909447, -10.83420753, -12.05680943,\n",
       "       -22.13281059, -22.52642441,   9.76519108], dtype=float32)"
      ]
     },
     "metadata": {},
     "output_type": "display_data"
    }
   ],
   "source": [
<<<<<<< HEAD
    "# 太巧合了！ 绝对不能改！\n",
    "w0 = np.array([1,0.4,\n",
    "              0.1,0.5,\n",
    "              1,1,\n",
    "              1])\n",
=======
    "w0 = np.array([20.,-20,\n",
    "               -10,-10,\n",
    "              -16,-16.,\n",
    "              16])\n",
>>>>>>> ac4e613666e278b19e9c282efc6d826186c8c6d0
    "private_init = parameters.assign(w0)\n",
    "\n",
    "sess = tf.InteractiveSession()\n",
    "l = 0.5\n",
    "dic = {}\n",
    "for _ in range(1):\n",
    "\n",
    "    tf.global_variables_initializer().run()\n",
    "    sess.run(private_init)    \n",
<<<<<<< HEAD
    "    v, H, w = sess.run([loss, hess, parameters], feed_dict={x: data, y_: label, lr: l})    \n",
    "    nng = get_norm_grad()\n",
    "#     print (w)\n",
    "\n",
    "    for i in range(10):\n",
    "        sess.run(train_step, feed_dict={x: data, y_: label, lr: l})\n",
    "        \n",
    "#         if i % 1 == 0:\n",
    "        v, H, w = sess.run([loss, hess, parameters], feed_dict={x: data, y_: label, lr: l})    \n",
    "        nng = get_norm_grad()\n",
    "        eigs = sorted(np.linalg.eigvals(H)[0])\n",
    "        print(\"Epoch {}, accuracy {:.2f}%, loss {:.6f}, nng {:.4g}, nnw {:.4g}, high_eig {:.4g}, low_eig {:.4g}.\"\\\n",
    "                .format(i+1, get_accuracy()*100, v, nng, np.linalg.norm(w[:n_hidden]), max(eigs), min(eigs) ))\n",
    "        print (w)\n",
    "#             h = sess.run([y], feed_dict={x: data, y_: label})    \n",
    "#             print (h)\n",
    "sess.close() "
=======
    "    w0 = sess.run(parameters)\n",
    "    for i in range(100):\n",
    "        sess.run(train_step, feed_dict={x: data, y_: label})\n",
    "        \n",
    "        if i % 20 == 0:\n",
    "            v, H, w = sess.run([loss, hess, parameters], feed_dict={x: data, y_: label})    \n",
    "            nng = get_norm_grad()\n",
    "            eigs = sorted(np.linalg.eigvals(H)[0])\n",
    "            print(\"Epoch {}, accuracy {:.2f}%, loss {:.6f}, nng {:.4g}, nnw {:.4g}, high_eig {:.4g}, low_eig {:.4g}.\"\\\n",
    "                    .format(i+1, get_accuracy()*100, v, nng, np.linalg.norm(w[:n_hidden]), max(eigs), min(eigs) ))\n",
    "    display(w0)\n",
    "    display(w)\n"
   ]
  },
  {
   "cell_type": "code",
   "execution_count": 386,
   "metadata": {},
   "outputs": [
    {
     "data": {
      "text/plain": [
       "array([[  2.86129421e-06],\n",
       "       [  2.85855072e-06],\n",
       "       [  2.97254678e-06],\n",
       "       [  3.23227368e-06],\n",
       "       [  3.11769827e-06],\n",
       "       [  2.85759120e-06],\n",
       "       [  2.85783108e-06],\n",
       "       [  8.14496525e-06],\n",
       "       [  6.99408611e-06],\n",
       "       [  2.93015364e-06],\n",
       "       [  4.23238453e-06],\n",
       "       [  4.23391884e-06],\n",
       "       [  4.22962466e-06],\n",
       "       [  4.25341750e-06],\n",
       "       [  4.26394445e-06],\n",
       "       [  8.33588911e-06],\n",
       "       [  2.80868891e-03],\n",
       "       [  4.23139181e-06],\n",
       "       [  4.23037500e-06],\n",
       "       [  4.22952007e-06],\n",
       "       [  9.99942422e-01],\n",
       "       [  9.99942303e-01],\n",
       "       [  9.99941587e-01],\n",
       "       [  9.99932766e-01],\n",
       "       [  9.99783933e-01],\n",
       "       [  9.99907613e-01],\n",
       "       [  9.99939680e-01],\n",
       "       [  9.97687936e-01],\n",
       "       [  9.99939322e-01],\n",
       "       [  9.99942183e-01],\n",
       "       [  9.99942303e-01],\n",
       "       [  9.99735773e-01],\n",
       "       [  9.99942422e-01],\n",
       "       [  9.99942303e-01],\n",
       "       [  9.99942303e-01],\n",
       "       [  9.99942303e-01],\n",
       "       [  9.99929070e-01],\n",
       "       [  9.99897242e-01],\n",
       "       [  9.99942064e-01],\n",
       "       [  9.99937415e-01]], dtype=float32)"
      ]
     },
     "execution_count": 386,
     "metadata": {},
     "output_type": "execute_result"
    }
   ],
   "source": [
    "sess.run(y, feed_dict={x: data, y_: label})  "
>>>>>>> ac4e613666e278b19e9c282efc6d826186c8c6d0
   ]
  },
  {
   "cell_type": "code",
   "execution_count": null,
   "metadata": {
    "collapsed": true
   },
   "outputs": [],
   "source": [
    "    "
   ]
  },
  {
   "cell_type": "code",
   "execution_count": null,
   "metadata": {
    "collapsed": true
   },
   "outputs": [],
   "source": []
  }
 ],
 "metadata": {
  "kernelspec": {
   "display_name": "Python 3",
   "language": "python",
   "name": "python3"
  },
  "language_info": {
   "codemirror_mode": {
    "name": "ipython",
    "version": 3
   },
   "file_extension": ".py",
   "mimetype": "text/x-python",
   "name": "python",
   "nbconvert_exporter": "python",
   "pygments_lexer": "ipython3",
   "version": "3.6.4"
  }
 },
 "nbformat": 4,
 "nbformat_minor": 2
}
