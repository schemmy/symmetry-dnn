{
 "cells": [
  {
   "cell_type": "code",
   "execution_count": 1,
   "metadata": {
    "collapsed": true
   },
   "outputs": [],
   "source": [
    "import os\n",
    "os.environ['TF_CPP_MIN_LOG_LEVEL']='2'\n",
    "import tensorflow as tf\n",
    "import numpy as np\n",
    "import random\n",
    "import math\n",
    "import matplotlib.pyplot as plt"
   ]
  },
  {
   "cell_type": "code",
   "execution_count": 54,
   "metadata": {},
   "outputs": [
    {
     "data": {
      "image/png": "[encoded data removed]",
      "text/plain": [
       "<matplotlib.figure.Figure at 0x1249d99e8>"
      ]
     },
     "metadata": {},
     "output_type": "display_data"
    }
   ],
   "source": [
    "\n",
    "random.seed(3)\n",
    "\n",
    "def rand_cluster(n,c,r):\n",
    "    \"\"\"returns n random points in disk of radius r centered at c\"\"\"\n",
    "    x = c\n",
    "    points = []\n",
    "    for i in range(n):\n",
    "        theta = 2*math.pi*random.random()\n",
    "        s = r*random.random()\n",
    "        points.append([x+s*math.cos(theta)])\n",
    "    return points\n",
    "\n",
    "def rand_clusters(k,n,r, a,b,c,d):\n",
    "    \"\"\"return k clusters of n points each in random disks of radius r\n",
    "    where the centers of the disk are chosen randomly in [a,b]x[c,d]\"\"\"\n",
    "    clusters = []\n",
    "    for _ in range(k):\n",
    "        x = a + (b-a)*random.random()\n",
    "        y = c + (d-c)*random.random()\n",
    "        clusters.extend(rand_cluster(n,x,r))\n",
    "    return clusters\n",
    "\n",
    "n = 50\n",
    "X = rand_clusters(2,50,0.8,-1,1,-1,1)\n",
    "data = np.array(X)\n",
    "label = np.transpose(np.array([[1]*n + [0]*n]))\n",
    "# label = np.array([1]*n + [0]*n)\n",
    "# print (data, label)\n",
    "\n",
    "plt.scatter(data[:n], [0]*n, color=['red'])\n",
    "plt.scatter(data[n:], [0]*n, color=['green'])\n",
    "plt.show()"
   ]
  },
  {
   "cell_type": "code",
   "execution_count": 139,
   "metadata": {
    "collapsed": true
   },
   "outputs": [],
   "source": [
    "# tf.reset_default_graph()\n",
    "\n",
    "# def weight_variable(shape, name):\n",
    "#     initial = tf.truncated_normal(shape=shape, stddev=0.1)\n",
    "#     return tf.get_variable(name=name, initializer=initial)\n",
    "\n",
    "# def bias_variable(shape, name):\n",
    "#     initial = tf.constant(0.1, shape=shape)\n",
    "#     return tf.get_variable(name=name, initializer=initial)\n",
    "\n",
    "\n",
    "x = tf.placeholder(tf.float32, [None, 1])\n",
    "y_ = tf.placeholder(tf.float32, [None, 1])\n",
    "\n",
    "\n",
    "n_input = 1\n",
    "n_hidden = 2\n",
    "n_output = 1\n",
    "lmd = 0\n",
    "\n",
    "parameters = tf.Variable(tf.concat([tf.truncated_normal([n_input * n_hidden]), tf.zeros([n_hidden]),\\\n",
    "                                    tf.truncated_normal([n_hidden * n_output]), tf.zeros([n_output]),\\\n",
    "                                   ], 0))\n",
    "\n",
    "idx_from = 0 \n",
    "weights1 = tf.reshape(tf.slice(parameters, begin=[idx_from], size=[n_input*n_hidden]), [n_input, n_hidden])\n",
    "idx_from = idx_from + n_input*n_hidden\n",
    "biases1 = tf.reshape(tf.slice(parameters, begin=[idx_from], size=[n_hidden]), [n_hidden])\n",
    "hidden = tf.nn.relu(tf.matmul(x, weights1) + biases1)\n",
    "\n",
    "idx_from = idx_from + n_hidden\n",
    "weights2 = tf.reshape(tf.slice(parameters, begin=[idx_from], size=[n_hidden*n_output]), [n_hidden, n_output])\n",
    "idx_from = idx_from + n_hidden*n_output\n",
    "biases2 = tf.reshape(tf.slice(parameters, begin=[idx_from], size=[n_output]), [n_output])\n",
    "y = tf.nn.relu(tf.matmul(hidden, weights2) + biases2)\n",
    "\n",
    "loss = tf.reduce_mean(tf.reduce_sum(tf.pow(y_ - y, 2), reduction_indices=[1])) #I also tried simply tf.nn.l2_loss(y_ - y)\n",
    "\n",
    "lr = tf.placeholder(tf.float32, shape=[])\n",
    "optimizer = tf.train.GradientDescentOptimizer(learning_rate=lr)\n",
    "grads_and_vars = optimizer.compute_gradients(loss)\n",
    "grad = tf.gradients(loss, parameters)\n",
    "hess = tf.hessians(loss, parameters)\n",
    "train_step = optimizer.apply_gradients(grads_and_vars)"
   ]
  },
  {
   "cell_type": "code",
   "execution_count": 145,
   "metadata": {
    "collapsed": true
   },
   "outputs": [],
   "source": [
    "\n",
    "def get_accuracy():\n",
    "    pred = sess.run(y, feed_dict={x: data, y_: label})    \n",
    "    match = [(pred[i] - 0.5) * (label[i] - 0.5) > 0  for i in range(n*2)]\n",
    "    acc = sum(match)*1./2/n\n",
    "    return acc[0]\n",
    "\n",
    "def get_norm_grad():\n",
    "    nng = 0.\n",
    "    for gv in grad:\n",
    "#         print(str(sess.run(gv[0], feed_dict={x: data, y_: label})) + \" - \" + gv[1].name)\n",
    "        g = sess.run(gv, feed_dict={x: data, y_: label})\n",
    "        print (g)\n",
    "        nng += np.linalg.norm(g) ** 2\n",
    "    return np.sqrt(nng)\n",
    "    \n",
    "     \n",
    "def displayH(a):\n",
    "    a = np.array(a[0])\n",
    "#     print (\"Matrix[\"+(\"%d\" %a.shape[0])+\"][\"+(\"%d\" %a.shape[1])+\"]\")\n",
    "    rows = a.shape[0]\n",
    "    cols = a.shape[1]\n",
    "    for i in range(0, rows):\n",
    "        for j in range(0, cols):\n",
    "            print(\"%0.2g \" %a[i,j], end=\"\")\n",
    "        print ()\n",
    "    print ()\n"
   ]
  },
  {
   "cell_type": "code",
   "execution_count": 148,
   "metadata": {},
   "outputs": [
    {
     "name": "stdout",
     "output_type": "stream",
     "text": [
      "[ 0.00291572  0.04794232  0.00354564 -0.06744069  0.03270284 -0.1454341\n",
      " -0.69240677]\n",
      "[ 0.00753453  0.05919332  0.03412173  0.0119173   0.13001086  0.16569825\n",
      "  0.06899914]\n",
      "Epoch 1, accuracy 30.00%, loss 0.282744, nng 0.2324, nnw 1.067, high_eig 2.533, low_eig -0.3944.\n",
      "[ 0.99854213  0.37602884  0.09822718  0.53372037  0.08364858  0.17271705\n",
      "  0.44620338]\n",
      "[ 0.00133986  0.03195352  0.00543898 -0.00819002  0.0951729   0.07508073\n",
      " -0.09113387]\n",
      "Epoch 2, accuracy 49.00%, loss 0.264211, nng 0.1553, nnw 1.053, high_eig 2.465, low_eig -0.3303.\n",
      "[ 0.99477488  0.34643218  0.08116631  0.5277617   0.01864315  0.08986793\n",
      "  0.41170382]\n",
      "[-0.00206628  0.01744991 -0.00875153 -0.00230922  0.09468969  0.08672758\n",
      " -0.04413009]\n",
      "Epoch 3, accuracy 50.00%, loss 0.253172, nng 0.1372, nnw 1.048, high_eig 2.47, low_eig -0.3104.\n",
      "[ 0.99410492  0.33045542  0.07844682  0.53185672 -0.0289433   0.05232756\n",
      "  0.45727077]\n",
      "[-0.00507562  0.00289519 -0.02196248 -0.00045719  0.0900524   0.07672898\n",
      " -0.05100465]\n",
      "Epoch 4, accuracy 50.00%, loss 0.244044, nng 0.1308, nnw 1.046, high_eig 2.475, low_eig -0.3012.\n",
      "[ 0.99513805  0.32173046  0.08282258  0.53301132 -0.07628815  0.00896377\n",
      "  0.47933581]\n",
      "[-0.00761239 -0.00913936 -0.03380913  0.00139208  0.0887457   0.07431325\n",
      " -0.04734871]\n",
      "Epoch 5, accuracy 52.00%, loss 0.235548, nng 0.1301, nnw 1.048, high_eig 2.486, low_eig -0.2911.\n",
      "[ 0.99767584  0.32028288  0.09380382  0.5332399  -0.12131435 -0.02940072\n",
      "  0.50483811]\n",
      "[-0.00937816 -0.01990012 -0.047462    0.00318304  0.08839853  0.07166002\n",
      " -0.04782391]\n",
      "Epoch 6, accuracy 84.00%, loss 0.226973, nng 0.1341, nnw 1.053, high_eig 2.503, low_eig -0.2867.\n",
      "[ 1.00148201  0.32485256  0.11070839  0.53254384 -0.1656872  -0.06655735\n",
      "  0.52851248]\n",
      "[-0.01091521 -0.02927736 -0.05724236  0.00499501  0.08899192  0.06983297\n",
      " -0.04878561]\n",
      "Epoch 7, accuracy 84.00%, loss 0.217812, nng 0.1395, nnw 1.06, high_eig 2.526, low_eig -0.2745.\n",
      "[ 1.00617111  0.33480263  0.13443938  0.53095233 -0.20988646 -0.10238735\n",
      "  0.55242443]\n",
      "[-0.01192642 -0.03725121 -0.06543148  0.00694297  0.08937097  0.0680831\n",
      " -0.05056642]\n",
      "Epoch 8, accuracy 84.00%, loss 0.207882, nng 0.145, nnw 1.07, high_eig 2.56, low_eig -0.2619.\n",
      "[ 1.01162875  0.34944132  0.16306056  0.52845484 -0.25438243 -0.13730384\n",
      "  0.57681721]\n",
      "[-0.01236987 -0.04363947 -0.0716073   0.00905731  0.08896469  0.06599139\n",
      " -0.05285994]\n",
      "Epoch 9, accuracy 84.00%, loss 0.197152, nng 0.1494, nnw 1.082, high_eig 2.601, low_eig -0.2466.\n",
      "[ 1.01759195  0.36806694  0.1957763   0.52498335 -0.29906791 -0.1713454\n",
      "  0.60210043]\n",
      "[-0.01141938 -0.04819492 -0.07881796  0.01119725  0.08715916  0.06343754\n",
      " -0.0547969 ]\n",
      "Epoch 10, accuracy 84.00%, loss 0.185831, nng 0.153, nnw 1.096, high_eig 2.65, low_eig -0.231.\n",
      "[ 1.02377689  0.38988668  0.23157994  0.5204547  -0.34355026 -0.2043411\n",
      "  0.62853038]\n"
     ]
    }
   ],
   "source": [
    "# 太巧合了！ 绝对不能改！\n",
    "w0 = np.array([1,0.4,\n",
    "              0.1,0.5,\n",
    "              1,1,\n",
    "              1])\n",
    "private_init = parameters.assign(w0)\n",
    "\n",
    "sess = tf.InteractiveSession()\n",
    "l = 0.5\n",
    "dic = {}\n",
    "for _ in range(1):\n",
    "\n",
    "    tf.global_variables_initializer().run()\n",
    "    sess.run(private_init)    \n",
    "    v, H, w = sess.run([loss, hess, parameters], feed_dict={x: data, y_: label, lr: l})    \n",
    "    nng = get_norm_grad()\n",
    "#     print (w)\n",
    "\n",
    "    for i in range(10):\n",
    "        sess.run(train_step, feed_dict={x: data, y_: label, lr: l})\n",
    "        \n",
    "#         if i % 1 == 0:\n",
    "        v, H, w = sess.run([loss, hess, parameters], feed_dict={x: data, y_: label, lr: l})    \n",
    "        nng = get_norm_grad()\n",
    "        eigs = sorted(np.linalg.eigvals(H)[0])\n",
    "        print(\"Epoch {}, accuracy {:.2f}%, loss {:.6f}, nng {:.4g}, nnw {:.4g}, high_eig {:.4g}, low_eig {:.4g}.\"\\\n",
    "                .format(i+1, get_accuracy()*100, v, nng, np.linalg.norm(w[:n_hidden]), max(eigs), min(eigs) ))\n",
    "        print (w)\n",
    "#             h = sess.run([y], feed_dict={x: data, y_: label})    \n",
    "#             print (h)\n",
    "sess.close() "
   ]
  },
  {
   "cell_type": "code",
   "execution_count": null,
   "metadata": {
    "collapsed": true
   },
   "outputs": [],
   "source": [
    "    "
   ]
  },
  {
   "cell_type": "code",
   "execution_count": null,
   "metadata": {
    "collapsed": true
   },
   "outputs": [],
   "source": []
  }
 ],
 "metadata": {
  "kernelspec": {
   "display_name": "Python 3",
   "language": "python",
   "name": "python3"
  },
  "language_info": {
   "codemirror_mode": {
    "name": "ipython",
    "version": 3
   },
   "file_extension": ".py",
   "mimetype": "text/x-python",
   "name": "python",
   "nbconvert_exporter": "python",
   "pygments_lexer": "ipython3",
   "version": "3.6.4"
  }
 },
 "nbformat": 4,
 "nbformat_minor": 2
}
