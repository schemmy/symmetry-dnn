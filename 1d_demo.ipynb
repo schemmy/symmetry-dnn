{
 "cells": [
  {
   "cell_type": "code",
   "execution_count": 1,
   "metadata": {
    "collapsed": true
   },
   "outputs": [],
   "source": [
    "import os\n",
    "os.environ['TF_CPP_MIN_LOG_LEVEL']='2'\n",
    "import tensorflow as tf\n",
    "import numpy as np\n",
    "import random\n",
    "import math\n",
    "import matplotlib.pyplot as plt"
   ]
  },
  {
   "cell_type": "code",
   "execution_count": 90,
   "metadata": {},
   "outputs": [
    {
     "data": {
      "image/png": "[encoded data removed]",
      "text/plain": [
       "<matplotlib.figure.Figure at 0x11fbdfc88>"
      ]
     },
     "metadata": {},
     "output_type": "display_data"
    }
   ],
   "source": [
    "\n",
    "random.seed(3)\n",
    "\n",
    "def rand_cluster(n,c,r):\n",
    "    \"\"\"returns n random points in disk of radius r centered at c\"\"\"\n",
    "    x = c\n",
    "    points = []\n",
    "    for i in range(n):\n",
    "        theta = 2*math.pi*random.random()\n",
    "        s = r*random.random()\n",
    "        points.append([x+s*math.cos(theta)])\n",
    "    return points\n",
    "\n",
    "def rand_clusters(k,n,r, a,b,c,d):\n",
    "    \"\"\"return k clusters of n points each in random disks of radius r\n",
    "    where the centers of the disk are chosen randomly in [a,b]x[c,d]\"\"\"\n",
    "    clusters = []\n",
    "    for _ in range(k):\n",
    "        x = a + (b-a)*random.random()\n",
    "        y = c + (d-c)*random.random()\n",
    "        clusters.extend(rand_cluster(n,x,r))\n",
    "    return clusters\n",
    "\n",
    "n = 50\n",
    "X = rand_clusters(2,50,1.8,-1,1,-1,1)\n",
    "data = np.array(X)\n",
    "label = np.transpose(np.array([[1]*n + [0]*n]))\n",
    "# label = np.array([1]*n + [0]*n)\n",
    "# print (data, label)\n",
    "\n",
    "plt.scatter(data[:n], [0]*n, color=['red'])\n",
    "plt.scatter(data[n:], [0]*n, color=['green'])\n",
    "plt.show()"
   ]
  },
  {
   "cell_type": "code",
   "execution_count": 101,
   "metadata": {},
   "outputs": [],
   "source": [
    "# tf.reset_default_graph()\n",
    "\n",
    "def weight_variable(shape, name):\n",
    "    initial = tf.truncated_normal(shape=shape, stddev=0.1)\n",
    "    return tf.get_variable(name=name, initializer=initial)\n",
    "\n",
    "def bias_variable(shape, name):\n",
    "    initial = tf.constant(0.1, shape=shape)\n",
    "    return tf.get_variable(name=name, initializer=initial)\n",
    "\n",
    "\n",
    "x = tf.placeholder(tf.float32, [None, 1])\n",
    "y_ = tf.placeholder(tf.float32, [None, 1])\n",
    "\n",
    "\n",
    "n_input = 1\n",
    "n_hidden = 2\n",
    "n_output = 1\n",
    "lmd = 0\n",
    "\n",
    "parameters = tf.Variable(tf.concat([tf.truncated_normal([n_input * n_hidden]), tf.zeros([n_hidden]),\\\n",
    "                                    tf.truncated_normal([n_hidden * n_output]), tf.zeros([n_output]),\\\n",
    "                                   ], 0))\n",
    "\n",
    "idx_from = 0 \n",
    "weights1 = tf.reshape(tf.slice(parameters, begin=[idx_from], size=[n_input*n_hidden]), [n_input, n_hidden])\n",
    "idx_from = idx_from + n_input*n_hidden\n",
    "biases1 = tf.reshape(tf.slice(parameters, begin=[idx_from], size=[n_hidden]), [n_hidden])\n",
    "hidden = tf.sigmoid(tf.matmul(x, weights1) + biases1)\n",
    "\n",
    "idx_from = idx_from + n_hidden\n",
    "weights2 = tf.reshape(tf.slice(parameters, begin=[idx_from], size=[n_hidden*n_output]), [n_hidden, n_output])\n",
    "idx_from = idx_from + n_hidden*n_output\n",
    "biases2 = tf.reshape(tf.slice(parameters, begin=[idx_from], size=[n_output]), [n_output])\n",
    "y = tf.nn.sigmoid(tf.matmul(hidden, weights2) + biases2)\n",
    "\n",
    "loss = tf.reduce_mean(tf.reduce_sum(tf.pow(y_ - y, 2), reduction_indices=[1])) #I also tried simply tf.nn.l2_loss(y_ - y)\n",
    "\n",
    "optimizer = tf.train.AdamOptimizer(1e-0)\n",
    "grads_and_vars = optimizer.compute_gradients(loss)\n",
    "hess = tf.hessians(loss, parameters)\n",
    "train_step = optimizer.apply_gradients(grads_and_vars)"
   ]
  },
  {
   "cell_type": "code",
   "execution_count": 102,
   "metadata": {
    "collapsed": true
   },
   "outputs": [],
   "source": [
    "\n",
    "def get_accuracy():\n",
    "    pred = sess.run(y, feed_dict={x: data, y_: label})    \n",
    "    match = [(pred[i] - 0.5) * (label[i] - 0.5) > 0  for i in range(n*2)]\n",
    "    acc = sum(match)*1./2/n\n",
    "    return acc[0]\n",
    "\n",
    "def get_norm_grad():\n",
    "    nng = 0.\n",
    "    for gv in [grads_and_vars[-1]]:\n",
    "#         print(str(sess.run(gv[0], feed_dict={x: data, y_: label})) + \" - \" + gv[1].name)\n",
    "        grad = sess.run(gv[0], feed_dict={x: data, y_: label})\n",
    "        nng += np.linalg.norm(grad[0]) ** 2\n",
    "    return np.sqrt(nng)\n",
    "    \n",
    "     \n",
    "def displayH(a):\n",
    "    a = np.array(a[0])\n",
    "#     print (\"Matrix[\"+(\"%d\" %a.shape[0])+\"][\"+(\"%d\" %a.shape[1])+\"]\")\n",
    "    rows = a.shape[0]\n",
    "    cols = a.shape[1]\n",
    "    for i in range(0, rows):\n",
    "        for j in range(0, cols):\n",
    "            print(\"%0.2g \" %a[i,j], end=\"\")\n",
    "        print ()\n",
    "    print ()\n"
   ]
  },
  {
   "cell_type": "code",
   "execution_count": 118,
   "metadata": {},
   "outputs": [
    {
     "name": "stdout",
     "output_type": "stream",
     "text": [
      "Epoch 1, accuracy 50.00%, loss 0.262951, nng 0.02187, nnw 0.1, high_eig 0.1563, low_eig -0.02505.\n",
      "[[ 0.1  0. ]]\n",
      "[ 0.  0.]\n",
      "[[-0.99984145]\n",
      " [-0.00585567]]\n",
      "[ 0.]\n",
      "Epoch 21, accuracy 74.00%, loss 0.196468, nng 0.001265, nnw 11.01, high_eig 0.1009, low_eig -0.003593.\n",
      "[[ 5.90363121 -9.28991604]]\n",
      "[ 4.55717134 -5.30862141]\n",
      "[[-2.20430851]\n",
      " [ 2.60802174]]\n",
      "[ 0.93765616]\n",
      "Epoch 41, accuracy 74.00%, loss 0.188286, nng 0.0004781, nnw 14.04, high_eig 0.1388, low_eig -2.932e-05.\n",
      "[[  4.97729015 -13.13123417]]\n",
      "[ 7.27439737 -5.60847187]\n",
      "[[-1.68773913]\n",
      " [ 2.3245182 ]]\n",
      "[ 0.54084158]\n",
      "Epoch 61, accuracy 74.00%, loss 0.186784, nng 0.0003175, nnw 15.37, high_eig 0.1548, low_eig 1.075e-05.\n",
      "[[  4.23574209 -14.77670956]]\n",
      "[ 8.22448444 -6.89491463]\n",
      "[[-1.39110053]\n",
      " [ 2.39238715]]\n",
      "[ 0.50291026]\n",
      "Epoch 81, accuracy 74.00%, loss 0.186412, nng 4.862e-05, nnw 16.95, high_eig 0.1514, low_eig 8.609e-06.\n",
      "[[  4.88050652 -16.23386765]]\n",
      "[ 8.32886219 -7.47895241]\n",
      "[[-1.52329218]\n",
      " [ 2.31251025]]\n",
      "[ 0.58302468]\n",
      "Epoch 101, accuracy 74.00%, loss 0.186252, nng 1.402e-06, nnw 18.05, high_eig 0.1514, low_eig 8.346e-06.\n",
      "[[  4.94881201 -17.36250114]]\n",
      "[ 8.6298008  -8.03589725]\n",
      "[[-1.64096403]\n",
      " [ 2.30691981]]\n",
      "[ 0.71095735]\n",
      "Epoch 121, accuracy 74.00%, loss 0.186141, nng 3.052e-05, nnw 19, high_eig 0.1514, low_eig 8.012e-06.\n",
      "[[  5.04447889 -18.31887436]]\n",
      "[ 8.92709732 -8.50454712]\n",
      "[[-1.76445484]\n",
      " [ 2.30040646]]\n",
      "[ 0.84352481]\n",
      "Epoch 141, accuracy 74.00%, loss 0.186057, nng 9.423e-06, nnw 19.84, high_eig 0.1517, low_eig 7.227e-06.\n",
      "[[  5.20785809 -19.1491394 ]]\n",
      "[ 9.20779991 -8.89806175]\n",
      "[[-1.88768578]\n",
      " [ 2.28336883]]\n",
      "[ 0.96956944]\n",
      "Epoch 161, accuracy 74.00%, loss 0.185993, nng 9.748e-06, nnw 20.57, high_eig 0.1518, low_eig 6.615e-06.\n",
      "[[  5.35164165 -19.864645  ]]\n",
      "[ 9.50493431 -9.24540043]\n",
      "[[-2.00220919]\n",
      " [ 2.27686214]]\n",
      "[ 1.08662784]\n",
      "Epoch 181, accuracy 74.00%, loss 0.185943, nng 1.309e-05, nnw 21.21, high_eig 0.1519, low_eig 5.993e-06.\n",
      "[[  5.49926519 -20.48561859]]\n",
      "[ 9.80570984 -9.55133343]\n",
      "[[-2.10907912]\n",
      " [ 2.2709198 ]]\n",
      "[ 1.19570696]\n"
     ]
    }
   ],
   "source": [
    "w0 = np.array([0.1,0,\n",
    "              0,0,\n",
    "              0,0,\n",
    "              0])\n",
    "private_init = parameters.assign(w0)\n",
    "\n",
    "sess = tf.InteractiveSession()\n",
    "\n",
    "dic = {}\n",
    "for _ in range(1):\n",
    "\n",
    "    tf.global_variables_initializer().run()\n",
    "    sess.run(private_init)    \n",
    "\n",
    "    for i in range(200):\n",
    "        sess.run(train_step, feed_dict={x: data, y_: label})\n",
    "        \n",
    "        if i % 20 == 0:\n",
    "            v, H, w = sess.run([loss, hess, parameters], feed_dict={x: data, y_: label})    \n",
    "            nng = get_norm_grad()\n",
    "            eigs = sorted(np.linalg.eigvals(H)[0])\n",
    "            print(\"Epoch {}, accuracy {:.2f}%, loss {:.6f}, nng {:.4g}, nnw {:.4g}, high_eig {:.4g}, low_eig {:.4g}.\"\\\n",
    "                    .format(i+1, get_accuracy()*100, v, nng, np.linalg.norm(w[:n_hidden]), max(eigs), min(eigs) ))\n",
    "            display(w)\n"
   ]
  },
  {
   "cell_type": "code",
   "execution_count": null,
   "metadata": {
    "collapsed": true
   },
   "outputs": [],
   "source": []
  },
  {
   "cell_type": "code",
   "execution_count": null,
   "metadata": {
    "collapsed": true
   },
   "outputs": [],
   "source": []
  }
 ],
 "metadata": {
  "kernelspec": {
   "display_name": "Python 3",
   "language": "python",
   "name": "python3"
  },
  "language_info": {
   "codemirror_mode": {
    "name": "ipython",
    "version": 3
   },
   "file_extension": ".py",
   "mimetype": "text/x-python",
   "name": "python",
   "nbconvert_exporter": "python",
   "pygments_lexer": "ipython3",
   "version": "3.6.2"
  }
 },
 "nbformat": 4,
 "nbformat_minor": 2
}
