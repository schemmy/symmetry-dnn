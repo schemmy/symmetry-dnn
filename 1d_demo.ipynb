{
 "cells": [
  {
   "cell_type": "code",
   "execution_count": 2,
   "metadata": {
    "collapsed": true
   },
   "outputs": [],
   "source": [
    "import os\n",
    "os.environ['TF_CPP_MIN_LOG_LEVEL']='2'\n",
    "import tensorflow as tf\n",
    "import numpy as np\n",
    "import random\n",
    "import math\n",
    "import matplotlib.pyplot as plt"
   ]
  },
  {
   "cell_type": "code",
   "execution_count": 382,
   "metadata": {},
   "outputs": [
    {
     "data": {
      "image/png": "[encoded data removed]",
      "text/plain": [
       "<matplotlib.figure.Figure at 0x7f9e48fd6e80>"
      ]
     },
     "metadata": {},
     "output_type": "display_data"
    }
   ],
   "source": [
    "\n",
    "random.seed(3)\n",
    "\n",
    "def rand_cluster(n,c,r):\n",
    "    \"\"\"returns n random points in disk of radius r centered at c\"\"\"\n",
    "    x = c\n",
    "    points = []\n",
    "    for i in range(n):\n",
    "        theta = 2*math.pi*random.random()\n",
    "        s = r*random.random()\n",
    "        points.append([x+s*math.cos(theta)])\n",
    "    return points\n",
    "\n",
    "def rand_clusters(k,n,r, a,b):\n",
    "    \"\"\"return k clusters of n points each in random disks of radius r\n",
    "    where the centers of the disk are chosen randomly in [a,b]x[c,d]\"\"\"\n",
    "    clusters = []\n",
    "    for _ in range(k):\n",
    "        x = a + (b-a)*random.random()\n",
    "        clusters.extend(rand_cluster(n,x,r))\n",
    "    return clusters\n",
    "\n",
    "n = 20\n",
    "X = rand_clusters(1,n//2,.5,-1,-1)\n",
    "X += rand_clusters(1,n//2,.5,1,1)\n",
    "X += rand_clusters(1,n,.5,0,0)\n",
    "data = np.array(X)\n",
    "\n",
    "label = np.transpose(np.array([[0]*n + [1]*n]))\n",
    "# label = np.array([1]*n + [0]*n)\n",
    "\n",
    "plt.scatter(data[:n], [0]*n, color=['red'])\n",
    "plt.scatter(data[n:], [0]*n, color=['green'])\n",
    "plt.show()"
   ]
  },
  {
   "cell_type": "code",
   "execution_count": 383,
   "metadata": {},
   "outputs": [],
   "source": [
    "# tf.reset_default_graph()\n",
    "\n",
    "def weight_variable(shape, name):\n",
    "    initial = tf.truncated_normal(shape=shape, stddev=0.1)\n",
    "    return tf.get_variable(name=name, initializer=initial)\n",
    "\n",
    "def bias_variable(shape, name):\n",
    "    initial = tf.constant(0.1, shape=shape)\n",
    "    return tf.get_variable(name=name, initializer=initial)\n",
    "\n",
    "\n",
    "x = tf.placeholder(tf.float32, [None, 1])\n",
    "y_ = tf.placeholder(tf.float32, [None, 1])\n",
    "\n",
    "\n",
    "n_input = 1\n",
    "n_hidden = 2\n",
    "n_output = 1\n",
    "lmd = 0\n",
    "\n",
    "parameters = tf.Variable(tf.concat([tf.truncated_normal([n_input * n_hidden]), tf.zeros([n_hidden]),\\\n",
    "                                    tf.truncated_normal([n_hidden * n_output]), tf.zeros([n_output]),\\\n",
    "                                   ], 0))\n",
    "\n",
    "idx_from = 0 \n",
    "weights1 = tf.reshape(tf.slice(parameters, begin=[idx_from], size=[n_input*n_hidden]), [n_input, n_hidden])\n",
    "idx_from = idx_from + n_input*n_hidden\n",
    "biases1 = tf.reshape(tf.slice(parameters, begin=[idx_from], size=[n_hidden]), [n_hidden])\n",
    "hidden = tf.sigmoid(tf.matmul(x, weights1) + biases1)\n",
    "\n",
    "idx_from = idx_from + n_hidden\n",
    "weights2 = tf.reshape(tf.slice(parameters, begin=[idx_from], size=[n_hidden*n_output]), [n_hidden, n_output])\n",
    "idx_from = idx_from + n_hidden*n_output\n",
    "biases2 = tf.reshape(tf.slice(parameters, begin=[idx_from], size=[n_output]), [n_output])\n",
    "y = tf.nn.sigmoid(tf.matmul(hidden, weights2) + biases2)\n",
    "\n",
    "loss = tf.reduce_mean(tf.reduce_sum(tf.pow(y_ - y, 2), reduction_indices=[1])) #I also tried simply tf.nn.l2_loss(y_ - y)\n",
    "\n",
    "optimizer = tf.train.AdamOptimizer(1e-0)\n",
    "grads_and_vars = optimizer.compute_gradients(loss)\n",
    "hess = tf.hessians(loss, parameters)\n",
    "train_step = optimizer.apply_gradients(grads_and_vars)"
   ]
  },
  {
   "cell_type": "code",
   "execution_count": 384,
   "metadata": {
    "collapsed": true
   },
   "outputs": [],
   "source": [
    "\n",
    "def get_accuracy():\n",
    "    pred = sess.run(y, feed_dict={x: data, y_: label})    \n",
    "    match = [(pred[i] - 0.5) * (label[i] - 0.5) > 0  for i in range(n*2)]\n",
    "    acc = sum(match)*1./2/n\n",
    "    return acc[0]\n",
    "\n",
    "def get_norm_grad():\n",
    "    nng = 0.\n",
    "    for gv in [grads_and_vars[-1]]:\n",
    "#         print(str(sess.run(gv[0], feed_dict={x: data, y_: label})) + \" - \" + gv[1].name)\n",
    "        grad = sess.run(gv[0], feed_dict={x: data, y_: label})\n",
    "        nng += np.linalg.norm(grad[0]) ** 2\n",
    "    return np.sqrt(nng)\n",
    "    \n",
    "     \n",
    "def displayH(a):\n",
    "    a = np.array(a[0])\n",
    "#     print (\"Matrix[\"+(\"%d\" %a.shape[0])+\"][\"+(\"%d\" %a.shape[1])+\"]\")\n",
    "    rows = a.shape[0]\n",
    "    cols = a.shape[1]\n",
    "    for i in range(0, rows):\n",
    "        for j in range(0, cols):\n",
    "            print(\"%0.2g \" %a[i,j], end=\"\")\n",
    "        print ()\n",
    "    print ()\n"
   ]
  },
  {
   "cell_type": "code",
   "execution_count": 385,
   "metadata": {},
   "outputs": [
    {
     "name": "stdout",
     "output_type": "stream",
     "text": [
      "Epoch 1, accuracy 100.00%, loss 0.008638, nng 0.001453, nnw 29.7, high_eig 0.03489, low_eig -3.338e-06.\n",
      "Epoch 21, accuracy 100.00%, loss 0.000007, nng 2.634e-05, nnw 28.65, high_eig 0.0006778, low_eig -2.873e-07.\n",
      "Epoch 41, accuracy 100.00%, loss 0.000019, nng 0.0001091, nnw 27.74, high_eig 0.002719, low_eig -5.745e-07.\n",
      "Epoch 61, accuracy 100.00%, loss 0.000001, nng 3.327e-06, nnw 27.85, high_eig 8.787e-05, low_eig 1.244e-12.\n",
      "Epoch 81, accuracy 100.00%, loss 0.000000, nng 9.778e-07, nnw 27.9, high_eig 3.654e-05, low_eig 1.276e-12.\n"
     ]
    },
    {
     "data": {
      "text/plain": [
       "array([ 20., -20., -10., -10., -16., -16.,  16.], dtype=float32)"
      ]
     },
     "metadata": {},
     "output_type": "display_data"
    },
    {
     "data": {
      "text/plain": [
       "array([ 20.86131096, -18.51909447, -10.83420753, -12.05680943,\n",
       "       -22.13281059, -22.52642441,   9.76519108], dtype=float32)"
      ]
     },
     "metadata": {},
     "output_type": "display_data"
    }
   ],
   "source": [
    "w0 = np.array([20.,-20,\n",
    "               -10,-10,\n",
    "              -16,-16.,\n",
    "              16])\n",
    "private_init = parameters.assign(w0)\n",
    "\n",
    "sess = tf.InteractiveSession()\n",
    "\n",
    "dic = {}\n",
    "for _ in range(1):\n",
    "\n",
    "    tf.global_variables_initializer().run()\n",
    "    sess.run(private_init)    \n",
    "    w0 = sess.run(parameters)\n",
    "    for i in range(100):\n",
    "        sess.run(train_step, feed_dict={x: data, y_: label})\n",
    "        \n",
    "        if i % 20 == 0:\n",
    "            v, H, w = sess.run([loss, hess, parameters], feed_dict={x: data, y_: label})    \n",
    "            nng = get_norm_grad()\n",
    "            eigs = sorted(np.linalg.eigvals(H)[0])\n",
    "            print(\"Epoch {}, accuracy {:.2f}%, loss {:.6f}, nng {:.4g}, nnw {:.4g}, high_eig {:.4g}, low_eig {:.4g}.\"\\\n",
    "                    .format(i+1, get_accuracy()*100, v, nng, np.linalg.norm(w[:n_hidden]), max(eigs), min(eigs) ))\n",
    "    display(w0)\n",
    "    display(w)\n"
   ]
  },
  {
   "cell_type": "code",
   "execution_count": 386,
   "metadata": {},
   "outputs": [
    {
     "data": {
      "text/plain": [
       "array([[  2.86129421e-06],\n",
       "       [  2.85855072e-06],\n",
       "       [  2.97254678e-06],\n",
       "       [  3.23227368e-06],\n",
       "       [  3.11769827e-06],\n",
       "       [  2.85759120e-06],\n",
       "       [  2.85783108e-06],\n",
       "       [  8.14496525e-06],\n",
       "       [  6.99408611e-06],\n",
       "       [  2.93015364e-06],\n",
       "       [  4.23238453e-06],\n",
       "       [  4.23391884e-06],\n",
       "       [  4.22962466e-06],\n",
       "       [  4.25341750e-06],\n",
       "       [  4.26394445e-06],\n",
       "       [  8.33588911e-06],\n",
       "       [  2.80868891e-03],\n",
       "       [  4.23139181e-06],\n",
       "       [  4.23037500e-06],\n",
       "       [  4.22952007e-06],\n",
       "       [  9.99942422e-01],\n",
       "       [  9.99942303e-01],\n",
       "       [  9.99941587e-01],\n",
       "       [  9.99932766e-01],\n",
       "       [  9.99783933e-01],\n",
       "       [  9.99907613e-01],\n",
       "       [  9.99939680e-01],\n",
       "       [  9.97687936e-01],\n",
       "       [  9.99939322e-01],\n",
       "       [  9.99942183e-01],\n",
       "       [  9.99942303e-01],\n",
       "       [  9.99735773e-01],\n",
       "       [  9.99942422e-01],\n",
       "       [  9.99942303e-01],\n",
       "       [  9.99942303e-01],\n",
       "       [  9.99942303e-01],\n",
       "       [  9.99929070e-01],\n",
       "       [  9.99897242e-01],\n",
       "       [  9.99942064e-01],\n",
       "       [  9.99937415e-01]], dtype=float32)"
      ]
     },
     "execution_count": 386,
     "metadata": {},
     "output_type": "execute_result"
    }
   ],
   "source": [
    "sess.run(y, feed_dict={x: data, y_: label})  "
   ]
  },
  {
   "cell_type": "code",
   "execution_count": null,
   "metadata": {
    "collapsed": true
   },
   "outputs": [],
   "source": []
  },
  {
   "cell_type": "code",
   "execution_count": null,
   "metadata": {
    "collapsed": true
   },
   "outputs": [],
   "source": []
  }
 ],
 "metadata": {
  "kernelspec": {
   "display_name": "Python 3",
   "language": "python",
   "name": "python3"
  },
  "language_info": {
   "codemirror_mode": {
    "name": "ipython",
    "version": 3
   },
   "file_extension": ".py",
   "mimetype": "text/x-python",
   "name": "python",
   "nbconvert_exporter": "python",
   "pygments_lexer": "ipython3",
   "version": "3.6.2"
  }
 },
 "nbformat": 4,
 "nbformat_minor": 2
}
